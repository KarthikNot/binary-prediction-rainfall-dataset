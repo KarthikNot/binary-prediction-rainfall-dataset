{
 "cells": [
  {
   "cell_type": "code",
   "execution_count": 52,
   "metadata": {
    "id": "G6FsTr26qQHd"
   },
   "outputs": [
    {
     "name": "stdout",
     "output_type": "stream",
     "text": [
      "2.6.0+cu126\n",
      "True\n"
     ]
    }
   ],
   "source": [
    "import warnings\n",
    "warnings.filterwarnings('ignore')\n",
    "\n",
    "import numpy as np\n",
    "import pandas as pd\n",
    "\n",
    "import matplotlib.pyplot as plt\n",
    "\n",
    "from sklearn.model_selection import train_test_split\n",
    "from sklearn.preprocessing import StandardScaler, MinMaxScaler\n",
    "\n",
    "import torch\n",
    "import torch.nn as nn\n",
    "import torch.nn.functional as F\n",
    "from torch.utils.data import DataLoader, TensorDataset\n",
    "from torchsummary import summary\n",
    "\n",
    "print(torch.__version__)\n",
    "print(torch.cuda.is_available())"
   ]
  },
  {
   "cell_type": "code",
   "execution_count": 53,
   "metadata": {},
   "outputs": [
    {
     "name": "stdout",
     "output_type": "stream",
     "text": [
      "cuda\n"
     ]
    }
   ],
   "source": [
    "device = torch.device(\"cuda\" if torch.cuda.is_available() else \"cpu\")\n",
    "print(device)  "
   ]
  },
  {
   "cell_type": "code",
   "execution_count": 54,
   "metadata": {
    "id": "IEVchZlvqrZD"
   },
   "outputs": [],
   "source": [
    "train_data = pd.read_csv('../data/train_data.csv')\n",
    "test_data = pd.read_csv('../data/test_data.csv')"
   ]
  },
  {
   "cell_type": "code",
   "execution_count": 55,
   "metadata": {
    "colab": {
     "base_uri": "https://localhost:8080/"
    },
    "id": "Ux1aWFmBq1CU",
    "outputId": "1b21a1da-94fc-4b16-f32e-4d8d10862734"
   },
   "outputs": [
    {
     "name": "stdout",
     "output_type": "stream",
     "text": [
      "<class 'pandas.core.frame.DataFrame'>\n",
      "RangeIndex: 3798 entries, 0 to 3797\n",
      "Data columns (total 12 columns):\n",
      " #   Column         Non-Null Count  Dtype  \n",
      "---  ------         --------------  -----  \n",
      " 0   day            3798 non-null   int64  \n",
      " 1   pressure       3798 non-null   float64\n",
      " 2   maxtemp        3798 non-null   float64\n",
      " 3   temparature    3798 non-null   float64\n",
      " 4   mintemp        3798 non-null   float64\n",
      " 5   dewpoint       3798 non-null   float64\n",
      " 6   humidity       3798 non-null   float64\n",
      " 7   cloud          3798 non-null   float64\n",
      " 8   sunshine       3798 non-null   float64\n",
      " 9   winddirection  3798 non-null   float64\n",
      " 10  windspeed      3798 non-null   float64\n",
      " 11  rainfall       3798 non-null   int64  \n",
      "dtypes: float64(10), int64(2)\n",
      "memory usage: 356.2 KB\n"
     ]
    }
   ],
   "source": [
    "train_data.info()"
   ]
  },
  {
   "cell_type": "code",
   "execution_count": 56,
   "metadata": {
    "colab": {
     "base_uri": "https://localhost:8080/"
    },
    "id": "QAcTlfgzq3HA",
    "outputId": "5bb98ef8-e9a7-44e8-d2f8-9d0566319711"
   },
   "outputs": [
    {
     "name": "stdout",
     "output_type": "stream",
     "text": [
      "<class 'pandas.core.frame.DataFrame'>\n",
      "RangeIndex: 730 entries, 0 to 729\n",
      "Data columns (total 12 columns):\n",
      " #   Column         Non-Null Count  Dtype  \n",
      "---  ------         --------------  -----  \n",
      " 0   id             730 non-null    int64  \n",
      " 1   day            730 non-null    int64  \n",
      " 2   pressure       730 non-null    float64\n",
      " 3   maxtemp        730 non-null    float64\n",
      " 4   temparature    730 non-null    float64\n",
      " 5   mintemp        730 non-null    float64\n",
      " 6   dewpoint       730 non-null    float64\n",
      " 7   humidity       730 non-null    float64\n",
      " 8   cloud          730 non-null    float64\n",
      " 9   sunshine       730 non-null    float64\n",
      " 10  winddirection  730 non-null    float64\n",
      " 11  windspeed      730 non-null    float64\n",
      "dtypes: float64(10), int64(2)\n",
      "memory usage: 68.6 KB\n"
     ]
    }
   ],
   "source": [
    "test_data.info()"
   ]
  },
  {
   "cell_type": "code",
   "execution_count": 57,
   "metadata": {},
   "outputs": [
    {
     "name": "stdout",
     "output_type": "stream",
     "text": [
      "day              0\n",
      "pressure         0\n",
      "maxtemp          0\n",
      "temparature      0\n",
      "mintemp          0\n",
      "dewpoint         0\n",
      "humidity         0\n",
      "cloud            0\n",
      "sunshine         0\n",
      "winddirection    0\n",
      "windspeed        0\n",
      "rainfall         0\n",
      "dtype: int64\n"
     ]
    }
   ],
   "source": [
    "print(train_data.isnull().sum())  "
   ]
  },
  {
   "cell_type": "code",
   "execution_count": 58,
   "metadata": {},
   "outputs": [
    {
     "name": "stdout",
     "output_type": "stream",
     "text": [
      "id               0\n",
      "day              0\n",
      "pressure         0\n",
      "maxtemp          0\n",
      "temparature      0\n",
      "mintemp          0\n",
      "dewpoint         0\n",
      "humidity         0\n",
      "cloud            0\n",
      "sunshine         0\n",
      "winddirection    0\n",
      "windspeed        0\n",
      "dtype: int64\n"
     ]
    }
   ],
   "source": [
    "print(test_data.isnull().sum())  "
   ]
  },
  {
   "cell_type": "markdown",
   "metadata": {},
   "source": [
    "### `Data Scaling`"
   ]
  },
  {
   "cell_type": "code",
   "execution_count": 59,
   "metadata": {},
   "outputs": [],
   "source": [
    "ss = StandardScaler()\n",
    "columns = list(train_data.columns)\n",
    "columns.remove('rainfall')\n",
    "columns.remove('day')\n",
    "train_data[columns] = ss.fit_transform(train_data[columns])\n",
    "test_data[columns] = ss.transform(test_data[columns])"
   ]
  },
  {
   "cell_type": "code",
   "execution_count": 60,
   "metadata": {},
   "outputs": [
    {
     "data": {
      "text/html": [
       "<div>\n",
       "<style scoped>\n",
       "    .dataframe tbody tr th:only-of-type {\n",
       "        vertical-align: middle;\n",
       "    }\n",
       "\n",
       "    .dataframe tbody tr th {\n",
       "        vertical-align: top;\n",
       "    }\n",
       "\n",
       "    .dataframe thead th {\n",
       "        text-align: right;\n",
       "    }\n",
       "</style>\n",
       "<table border=\"1\" class=\"dataframe\">\n",
       "  <thead>\n",
       "    <tr style=\"text-align: right;\">\n",
       "      <th></th>\n",
       "      <th>day</th>\n",
       "      <th>pressure</th>\n",
       "      <th>maxtemp</th>\n",
       "      <th>temparature</th>\n",
       "      <th>mintemp</th>\n",
       "      <th>dewpoint</th>\n",
       "      <th>humidity</th>\n",
       "      <th>cloud</th>\n",
       "      <th>sunshine</th>\n",
       "      <th>winddirection</th>\n",
       "      <th>windspeed</th>\n",
       "      <th>rainfall</th>\n",
       "    </tr>\n",
       "  </thead>\n",
       "  <tbody>\n",
       "    <tr>\n",
       "      <th>0</th>\n",
       "      <td>7</td>\n",
       "      <td>0.631370</td>\n",
       "      <td>-0.986591</td>\n",
       "      <td>-0.688274</td>\n",
       "      <td>-0.477055</td>\n",
       "      <td>-0.166971</td>\n",
       "      <td>0.988286</td>\n",
       "      <td>0.965892</td>\n",
       "      <td>-1.012811</td>\n",
       "      <td>-0.548996</td>\n",
       "      <td>-0.410395</td>\n",
       "      <td>1</td>\n",
       "    </tr>\n",
       "    <tr>\n",
       "      <th>1</th>\n",
       "      <td>7</td>\n",
       "      <td>1.006851</td>\n",
       "      <td>-1.800977</td>\n",
       "      <td>-1.405593</td>\n",
       "      <td>-1.293287</td>\n",
       "      <td>-0.936347</td>\n",
       "      <td>1.838946</td>\n",
       "      <td>1.117212</td>\n",
       "      <td>-1.301544</td>\n",
       "      <td>-0.675864</td>\n",
       "      <td>0.124856</td>\n",
       "      <td>1</td>\n",
       "    </tr>\n",
       "    <tr>\n",
       "      <th>2</th>\n",
       "      <td>7</td>\n",
       "      <td>1.814504</td>\n",
       "      <td>-1.312213</td>\n",
       "      <td>-1.560690</td>\n",
       "      <td>-1.532184</td>\n",
       "      <td>-2.065857</td>\n",
       "      <td>-0.713033</td>\n",
       "      <td>-1.102144</td>\n",
       "      <td>0.877074</td>\n",
       "      <td>-0.422129</td>\n",
       "      <td>-0.307900</td>\n",
       "      <td>1</td>\n",
       "    </tr>\n",
       "    <tr>\n",
       "      <th>3</th>\n",
       "      <td>7</td>\n",
       "      <td>-0.083832</td>\n",
       "      <td>-1.547385</td>\n",
       "      <td>-1.231110</td>\n",
       "      <td>-1.074298</td>\n",
       "      <td>-0.667066</td>\n",
       "      <td>1.838946</td>\n",
       "      <td>1.218092</td>\n",
       "      <td>-1.301544</td>\n",
       "      <td>-0.548996</td>\n",
       "      <td>1.685055</td>\n",
       "      <td>1</td>\n",
       "    </tr>\n",
       "    <tr>\n",
       "      <th>4</th>\n",
       "      <td>7</td>\n",
       "      <td>1.418092</td>\n",
       "      <td>-0.968501</td>\n",
       "      <td>-1.114788</td>\n",
       "      <td>-1.412736</td>\n",
       "      <td>-2.051942</td>\n",
       "      <td>-1.847247</td>\n",
       "      <td>-1.203024</td>\n",
       "      <td>-0.356601</td>\n",
       "      <td>-0.802732</td>\n",
       "      <td>0.455117</td>\n",
       "      <td>0</td>\n",
       "    </tr>\n",
       "  </tbody>\n",
       "</table>\n",
       "</div>"
      ],
      "text/plain": [
       "   day  pressure   maxtemp  temparature   mintemp  dewpoint  humidity  \\\n",
       "0    7  0.631370 -0.986591    -0.688274 -0.477055 -0.166971  0.988286   \n",
       "1    7  1.006851 -1.800977    -1.405593 -1.293287 -0.936347  1.838946   \n",
       "2    7  1.814504 -1.312213    -1.560690 -1.532184 -2.065857 -0.713033   \n",
       "3    7 -0.083832 -1.547385    -1.231110 -1.074298 -0.667066  1.838946   \n",
       "4    7  1.418092 -0.968501    -1.114788 -1.412736 -2.051942 -1.847247   \n",
       "\n",
       "      cloud  sunshine  winddirection  windspeed  rainfall  \n",
       "0  0.965892 -1.012811      -0.548996  -0.410395         1  \n",
       "1  1.117212 -1.301544      -0.675864   0.124856         1  \n",
       "2 -1.102144  0.877074      -0.422129  -0.307900         1  \n",
       "3  1.218092 -1.301544      -0.548996   1.685055         1  \n",
       "4 -1.203024 -0.356601      -0.802732   0.455117         0  "
      ]
     },
     "execution_count": 60,
     "metadata": {},
     "output_type": "execute_result"
    }
   ],
   "source": [
    "train_data.head()"
   ]
  },
  {
   "cell_type": "code",
   "execution_count": 61,
   "metadata": {},
   "outputs": [
    {
     "data": {
      "text/plain": [
       "array([  7,   8,   9,  10,  11,  12,  13,  14,  15,  16,  17,  18,  19,\n",
       "        20,  21,  22,  23,  24,  25,  26,  27,  28,  29,  30,  31,  32,\n",
       "        33,  34,  35,  36,  37,  38,  39,  40,  41,  42,  43,  44,  45,\n",
       "        46,  47,  48,  49,  50,  51,  52,  53,  54,  55,  56,  57,  58,\n",
       "        59,  60,  61,  62,  63,  64,  65,  66,  67,  68,  69,  70,  71,\n",
       "        72,  73,  74,  75,  76,  77,  78,  79,  80,  81,  82,  83,  84,\n",
       "        85,  86,  87,  88,  89,  90,  91,  92,  93,  94,  95,  96,  97,\n",
       "        98,  99, 100, 101, 102, 103, 104, 105, 106, 107, 108, 109, 110,\n",
       "       111, 112, 113, 114, 115, 116, 117, 118, 119, 120, 121, 122, 123,\n",
       "       124, 125, 126, 127, 128, 129, 130, 131, 132, 133, 134, 135, 136,\n",
       "       137, 138, 139, 140, 141, 142, 143, 144, 145, 146, 147, 148, 149,\n",
       "       150, 151, 152, 153, 154, 155, 156, 157, 158, 159, 160, 161, 162,\n",
       "       163, 164, 165, 166, 167, 168, 169, 170, 171, 172, 173, 174, 175,\n",
       "       176, 177, 178, 179, 180, 181, 182, 183, 184, 185, 186, 187, 188,\n",
       "       189, 190, 191, 192, 193, 194, 195, 196, 197, 198, 199, 200, 201,\n",
       "       202, 203, 204, 205, 206, 207, 208, 209, 210, 211, 212, 213, 214,\n",
       "       215, 216, 217, 218, 219, 220, 221, 222, 223, 224, 225, 226, 227,\n",
       "       228, 229, 230, 231, 232, 233, 234, 235, 236, 237, 238, 239, 240,\n",
       "       241, 242, 243, 244, 245, 246, 247, 248, 249, 250, 251, 252, 253,\n",
       "       254, 255, 256, 257, 258, 259, 260, 261, 262, 263, 264, 265, 266,\n",
       "       267, 268, 269, 270, 271, 272, 273, 274, 275, 276, 277, 278, 279,\n",
       "       280, 281, 282, 283, 284, 285, 286, 287, 288, 289, 290, 291, 292,\n",
       "       293, 294, 295, 296, 297, 298, 299, 300, 301, 302, 303, 304, 305,\n",
       "       306, 307, 308, 309, 310, 311, 312, 313, 314, 315, 316, 317, 318,\n",
       "       319, 320, 321, 322, 323, 324, 325, 326, 327, 328, 329, 330, 331,\n",
       "       332, 333, 334, 335, 336, 337, 338, 339])"
      ]
     },
     "execution_count": 61,
     "metadata": {},
     "output_type": "execute_result"
    }
   ],
   "source": [
    "train_data.day.unique()"
   ]
  },
  {
   "cell_type": "code",
   "execution_count": 62,
   "metadata": {},
   "outputs": [
    {
     "data": {
      "text/html": [
       "<div>\n",
       "<style scoped>\n",
       "    .dataframe tbody tr th:only-of-type {\n",
       "        vertical-align: middle;\n",
       "    }\n",
       "\n",
       "    .dataframe tbody tr th {\n",
       "        vertical-align: top;\n",
       "    }\n",
       "\n",
       "    .dataframe thead th {\n",
       "        text-align: right;\n",
       "    }\n",
       "</style>\n",
       "<table border=\"1\" class=\"dataframe\">\n",
       "  <thead>\n",
       "    <tr style=\"text-align: right;\">\n",
       "      <th></th>\n",
       "      <th>id</th>\n",
       "      <th>day</th>\n",
       "      <th>pressure</th>\n",
       "      <th>maxtemp</th>\n",
       "      <th>temparature</th>\n",
       "      <th>mintemp</th>\n",
       "      <th>dewpoint</th>\n",
       "      <th>humidity</th>\n",
       "      <th>cloud</th>\n",
       "      <th>sunshine</th>\n",
       "      <th>winddirection</th>\n",
       "      <th>windspeed</th>\n",
       "    </tr>\n",
       "  </thead>\n",
       "  <tbody>\n",
       "    <tr>\n",
       "      <th>0</th>\n",
       "      <td>2190</td>\n",
       "      <td>1</td>\n",
       "      <td>1.006851</td>\n",
       "      <td>-1.655925</td>\n",
       "      <td>-1.618851</td>\n",
       "      <td>-1.910438</td>\n",
       "      <td>-1.032519</td>\n",
       "      <td>2.264276</td>\n",
       "      <td>1.520731</td>\n",
       "      <td>-1.301544</td>\n",
       "      <td>-0.675864</td>\n",
       "      <td>0.398175</td>\n",
       "    </tr>\n",
       "    <tr>\n",
       "      <th>1</th>\n",
       "      <td>2191</td>\n",
       "      <td>2</td>\n",
       "      <td>0.470449</td>\n",
       "      <td>-1.655925</td>\n",
       "      <td>-1.483141</td>\n",
       "      <td>-1.293287</td>\n",
       "      <td>-0.994050</td>\n",
       "      <td>2.406053</td>\n",
       "      <td>1.520731</td>\n",
       "      <td>-1.301544</td>\n",
       "      <td>-0.675864</td>\n",
       "      <td>1.650890</td>\n",
       "    </tr>\n",
       "    <tr>\n",
       "      <th>2</th>\n",
       "      <td>2192</td>\n",
       "      <td>3</td>\n",
       "      <td>1.793573</td>\n",
       "      <td>-2.795602</td>\n",
       "      <td>-2.665750</td>\n",
       "      <td>-2.567406</td>\n",
       "      <td>-2.186582</td>\n",
       "      <td>0.846510</td>\n",
       "      <td>1.369412</td>\n",
       "      <td>-1.301544</td>\n",
       "      <td>-0.802732</td>\n",
       "      <td>-0.444560</td>\n",
       "    </tr>\n",
       "    <tr>\n",
       "      <th>3</th>\n",
       "      <td>2193</td>\n",
       "      <td>4</td>\n",
       "      <td>1.614773</td>\n",
       "      <td>-1.095132</td>\n",
       "      <td>-1.328045</td>\n",
       "      <td>-1.412736</td>\n",
       "      <td>-2.071176</td>\n",
       "      <td>-0.713033</td>\n",
       "      <td>-1.203024</td>\n",
       "      <td>0.562093</td>\n",
       "      <td>-1.056467</td>\n",
       "      <td>3.393303</td>\n",
       "    </tr>\n",
       "    <tr>\n",
       "      <th>4</th>\n",
       "      <td>2194</td>\n",
       "      <td>5</td>\n",
       "      <td>1.489612</td>\n",
       "      <td>-1.909187</td>\n",
       "      <td>-2.006591</td>\n",
       "      <td>-3.164649</td>\n",
       "      <td>-3.071364</td>\n",
       "      <td>-1.705470</td>\n",
       "      <td>-1.001264</td>\n",
       "      <td>1.113309</td>\n",
       "      <td>-1.056467</td>\n",
       "      <td>-0.159852</td>\n",
       "    </tr>\n",
       "  </tbody>\n",
       "</table>\n",
       "</div>"
      ],
      "text/plain": [
       "     id  day  pressure   maxtemp  temparature   mintemp  dewpoint  humidity  \\\n",
       "0  2190    1  1.006851 -1.655925    -1.618851 -1.910438 -1.032519  2.264276   \n",
       "1  2191    2  0.470449 -1.655925    -1.483141 -1.293287 -0.994050  2.406053   \n",
       "2  2192    3  1.793573 -2.795602    -2.665750 -2.567406 -2.186582  0.846510   \n",
       "3  2193    4  1.614773 -1.095132    -1.328045 -1.412736 -2.071176 -0.713033   \n",
       "4  2194    5  1.489612 -1.909187    -2.006591 -3.164649 -3.071364 -1.705470   \n",
       "\n",
       "      cloud  sunshine  winddirection  windspeed  \n",
       "0  1.520731 -1.301544      -0.675864   0.398175  \n",
       "1  1.520731 -1.301544      -0.675864   1.650890  \n",
       "2  1.369412 -1.301544      -0.802732  -0.444560  \n",
       "3 -1.203024  0.562093      -1.056467   3.393303  \n",
       "4 -1.001264  1.113309      -1.056467  -0.159852  "
      ]
     },
     "execution_count": 62,
     "metadata": {},
     "output_type": "execute_result"
    }
   ],
   "source": [
    "test_data.head()"
   ]
  },
  {
   "cell_type": "code",
   "execution_count": 63,
   "metadata": {
    "id": "dIsT7rtYq4Y_"
   },
   "outputs": [],
   "source": [
    "X = train_data.drop(columns = ['rainfall'])\n",
    "y = train_data['rainfall']"
   ]
  },
  {
   "cell_type": "code",
   "execution_count": 64,
   "metadata": {
    "colab": {
     "base_uri": "https://localhost:8080/"
    },
    "id": "RxCH9SGQrB3E",
    "outputId": "9c1af45c-9423-42d9-e23c-23ebee1fd475"
   },
   "outputs": [
    {
     "name": "stdout",
     "output_type": "stream",
     "text": [
      "11\n"
     ]
    },
    {
     "data": {
      "text/plain": [
       "Index(['day', 'pressure', 'maxtemp', 'temparature', 'mintemp', 'dewpoint',\n",
       "       'humidity', 'cloud', 'sunshine', 'winddirection', 'windspeed'],\n",
       "      dtype='object')"
      ]
     },
     "execution_count": 64,
     "metadata": {},
     "output_type": "execute_result"
    }
   ],
   "source": [
    "print(len(X.columns))\n",
    "X.columns"
   ]
  },
  {
   "cell_type": "code",
   "execution_count": 65,
   "metadata": {
    "colab": {
     "base_uri": "https://localhost:8080/",
     "height": 241
    },
    "id": "Y_iEE4isrCxQ",
    "outputId": "7dd033b1-7c69-4396-9c84-cb47094a31ba"
   },
   "outputs": [
    {
     "data": {
      "text/plain": [
       "0    1\n",
       "1    1\n",
       "2    1\n",
       "3    1\n",
       "4    0\n",
       "Name: rainfall, dtype: int64"
      ]
     },
     "execution_count": 65,
     "metadata": {},
     "output_type": "execute_result"
    }
   ],
   "source": [
    "y.head()"
   ]
  },
  {
   "cell_type": "code",
   "execution_count": 66,
   "metadata": {
    "id": "5U4xnvnarLQy"
   },
   "outputs": [
    {
     "name": "stdout",
     "output_type": "stream",
     "text": [
      "(2848, 11)\n",
      "(950, 11)\n",
      "(2848,)\n",
      "(950,)\n"
     ]
    }
   ],
   "source": [
    "X_train, X_test, y_train, y_test = train_test_split(X, y, test_size=0.25, random_state=42, stratify = y)\n",
    "print(X_train.shape)\n",
    "print(X_test.shape)\n",
    "print(y_train.shape)\n",
    "print(y_test.shape)\n",
    "\n",
    "X_train = torch.tensor(X_train.to_numpy(), dtype=torch.float32).to(device)\n",
    "X_test = torch.tensor(X_test.to_numpy(), dtype=torch.float32).to(device)\n",
    "y_train = torch.tensor(y_train.to_numpy(), dtype=torch.float32).to(device)\n",
    "y_test = torch.tensor(y_test.to_numpy(), dtype=torch.float32).to(device)"
   ]
  },
  {
   "cell_type": "code",
   "execution_count": 67,
   "metadata": {},
   "outputs": [
    {
     "name": "stdout",
     "output_type": "stream",
     "text": [
      "Train class distribution: 0.5000\n",
      "Test class distribution: 0.5000\n"
     ]
    }
   ],
   "source": [
    "print(f\"Train class distribution: {y_train.cpu().numpy().mean():.4f}\")  # % of 1s\n",
    "print(f\"Test class distribution: {y_test.cpu().numpy().mean():.4f}\")"
   ]
  },
  {
   "cell_type": "code",
   "execution_count": 69,
   "metadata": {},
   "outputs": [],
   "source": [
    "train_dataset = TensorDataset(X_train, y_train)\n",
    "train_loader = DataLoader(train_dataset, batch_size=128, shuffle=True)\n",
    "\n",
    "val_dataset = TensorDataset(X_test, y_test)\n",
    "val_loader = torch.utils.data.DataLoader(val_dataset, batch_size=128, shuffle=False)\n",
    "\n",
    "test_dataset = TensorDataset(X_test, y_test)\n",
    "test_loader = DataLoader(test_dataset, batch_size=128, shuffle=True)"
   ]
  },
  {
   "cell_type": "markdown",
   "metadata": {
    "id": "CY_B5Ufj4W3q"
   },
   "source": [
    "## 2. `Model Training`"
   ]
  },
  {
   "cell_type": "code",
   "execution_count": 78,
   "metadata": {},
   "outputs": [
    {
     "name": "stdout",
     "output_type": "stream",
     "text": [
      "----------------------------------------------------------------\n",
      "        Layer (type)               Output Shape         Param #\n",
      "================================================================\n",
      "            Linear-1               [-1, 1, 128]           1,536\n",
      "              ReLU-2               [-1, 1, 128]               0\n",
      "            Linear-3               [-1, 1, 128]          16,512\n",
      "              ReLU-4               [-1, 1, 128]               0\n",
      "            Linear-5               [-1, 1, 128]          16,512\n",
      "              ReLU-6               [-1, 1, 128]               0\n",
      "            Linear-7               [-1, 1, 128]          16,512\n",
      "              ReLU-8               [-1, 1, 128]               0\n",
      "            Linear-9                 [-1, 1, 1]             129\n",
      "          Sigmoid-10                 [-1, 1, 1]               0\n",
      "================================================================\n",
      "Total params: 51,201\n",
      "Trainable params: 51,201\n",
      "Non-trainable params: 0\n",
      "----------------------------------------------------------------\n",
      "Input size (MB): 0.00\n",
      "Forward/backward pass size (MB): 0.01\n",
      "Params size (MB): 0.20\n",
      "Estimated Total Size (MB): 0.20\n",
      "----------------------------------------------------------------\n"
     ]
    }
   ],
   "source": [
    "class RainfallPredictor(nn.Module):\n",
    "    def __init__(self, input_size):\n",
    "        super(RainfallPredictor, self).__init__()\n",
    "        self.model = nn.Sequential(\n",
    "            nn.Linear(input_size, 128),\n",
    "            nn.ReLU(), \n",
    "            nn.Linear(128, 128),\n",
    "            nn.ReLU(),\n",
    "            nn.Linear(128, 128),\n",
    "            nn.ReLU(),\n",
    "            nn.Linear(128, 128),\n",
    "            nn.ReLU(),\n",
    "            nn.Linear(128, 1),\n",
    "            nn.Sigmoid()\n",
    "        )\n",
    "\n",
    "    def forward(self, x):\n",
    "        return self.model(x)\n",
    "\n",
    "model = RainfallPredictor(input_size=X.shape[1]).to(device)\n",
    "\n",
    "criterion = nn.BCELoss()\n",
    "optimizer = torch.optim.Adam(model.parameters(), lr=0.001)\n",
    "\n",
    "# scheduler = torch.optim.lr_scheduler.StepLR(optimizer, step_size=5, gamma=0.5)\n",
    "\n",
    "summary(model, (1, X.shape[1]))\n",
    "# print(model)"
   ]
  },
  {
   "cell_type": "code",
   "execution_count": 80,
   "metadata": {
    "scrolled": false
   },
   "outputs": [
    {
     "name": "stdout",
     "output_type": "stream",
     "text": [
      "Epoch [1/100], Avg Loss: 0.3573\n",
      "Epoch [2/100], Avg Loss: 0.3574\n",
      "Epoch [3/100], Avg Loss: 0.3569\n",
      "Epoch [4/100], Avg Loss: 0.3689\n",
      "Epoch [5/100], Avg Loss: 0.3594\n",
      "Epoch [6/100], Avg Loss: 0.3673\n",
      "Epoch [7/100], Avg Loss: 0.3554\n",
      "Epoch [8/100], Avg Loss: 0.3561\n",
      "Epoch [9/100], Avg Loss: 0.3516\n",
      "Validation Loss after Epoch 10: 0.4241\n",
      "Epoch [10/100], Avg Loss: 0.3508\n",
      "Epoch [11/100], Avg Loss: 0.3477\n",
      "Epoch [12/100], Avg Loss: 0.3416\n",
      "Epoch [13/100], Avg Loss: 0.3542\n",
      "Epoch [14/100], Avg Loss: 0.3546\n",
      "Epoch [15/100], Avg Loss: 0.3500\n",
      "Epoch [16/100], Avg Loss: 0.3587\n",
      "Epoch [17/100], Avg Loss: 0.3547\n",
      "Epoch [18/100], Avg Loss: 0.3497\n",
      "Epoch [19/100], Avg Loss: 0.3597\n",
      "Validation Loss after Epoch 20: 0.4172\n",
      "Epoch [20/100], Avg Loss: 0.3494\n",
      "Epoch [21/100], Avg Loss: 0.3473\n",
      "Epoch [22/100], Avg Loss: 0.3570\n",
      "Epoch [23/100], Avg Loss: 0.3611\n",
      "Epoch [24/100], Avg Loss: 0.3467\n",
      "Epoch [25/100], Avg Loss: 0.3637\n",
      "Epoch [26/100], Avg Loss: 0.3489\n",
      "Epoch [27/100], Avg Loss: 0.3541\n",
      "Epoch [28/100], Avg Loss: 0.3444\n",
      "Epoch [29/100], Avg Loss: 0.3423\n",
      "Validation Loss after Epoch 30: 0.4375\n",
      "Epoch [30/100], Avg Loss: 0.3424\n",
      "Epoch [31/100], Avg Loss: 0.3492\n",
      "Epoch [32/100], Avg Loss: 0.3464\n",
      "Epoch [33/100], Avg Loss: 0.3479\n",
      "Epoch [34/100], Avg Loss: 0.3489\n",
      "Epoch [35/100], Avg Loss: 0.3717\n",
      "Epoch [36/100], Avg Loss: 0.3690\n",
      "Epoch [37/100], Avg Loss: 0.3659\n",
      "Epoch [38/100], Avg Loss: 0.3481\n",
      "Epoch [39/100], Avg Loss: 0.3472\n",
      "Validation Loss after Epoch 40: 0.4678\n",
      "Epoch [40/100], Avg Loss: 0.3455\n",
      "Epoch [41/100], Avg Loss: 0.3568\n",
      "Epoch [42/100], Avg Loss: 0.3556\n",
      "Epoch [43/100], Avg Loss: 0.3571\n",
      "Epoch [44/100], Avg Loss: 0.3554\n",
      "Epoch [45/100], Avg Loss: 0.3600\n",
      "Epoch [46/100], Avg Loss: 0.3445\n",
      "Epoch [47/100], Avg Loss: 0.3393\n",
      "Epoch [48/100], Avg Loss: 0.3515\n",
      "Epoch [49/100], Avg Loss: 0.3476\n",
      "Validation Loss after Epoch 50: 0.4529\n",
      "Epoch [50/100], Avg Loss: 0.3457\n",
      "Epoch [51/100], Avg Loss: 0.3461\n",
      "Epoch [52/100], Avg Loss: 0.3447\n",
      "Epoch [53/100], Avg Loss: 0.3496\n",
      "Epoch [54/100], Avg Loss: 0.3379\n",
      "Epoch [55/100], Avg Loss: 0.3333\n",
      "Epoch [56/100], Avg Loss: 0.3301\n",
      "Epoch [57/100], Avg Loss: 0.3362\n",
      "Epoch [58/100], Avg Loss: 0.3394\n",
      "Epoch [59/100], Avg Loss: 0.3421\n",
      "Validation Loss after Epoch 60: 0.4622\n",
      "Epoch [60/100], Avg Loss: 0.3423\n",
      "Epoch [61/100], Avg Loss: 0.3449\n",
      "Epoch [62/100], Avg Loss: 0.3641\n",
      "Epoch [63/100], Avg Loss: 0.3545\n",
      "Epoch [64/100], Avg Loss: 0.3388\n",
      "Epoch [65/100], Avg Loss: 0.3382\n",
      "Epoch [66/100], Avg Loss: 0.3445\n",
      "Epoch [67/100], Avg Loss: 0.3387\n",
      "Epoch [68/100], Avg Loss: 0.3304\n",
      "Epoch [69/100], Avg Loss: 0.3274\n",
      "Validation Loss after Epoch 70: 0.4684\n",
      "Epoch [70/100], Avg Loss: 0.3363\n",
      "Epoch [71/100], Avg Loss: 0.3283\n",
      "Epoch [72/100], Avg Loss: 0.3251\n",
      "Epoch [73/100], Avg Loss: 0.3318\n",
      "Epoch [74/100], Avg Loss: 0.3335\n",
      "Epoch [75/100], Avg Loss: 0.3383\n",
      "Epoch [76/100], Avg Loss: 0.3355\n",
      "Epoch [77/100], Avg Loss: 0.3325\n",
      "Epoch [78/100], Avg Loss: 0.3410\n",
      "Epoch [79/100], Avg Loss: 0.3306\n",
      "Validation Loss after Epoch 80: 0.4910\n",
      "Epoch [80/100], Avg Loss: 0.3341\n",
      "Epoch [81/100], Avg Loss: 0.3255\n",
      "Epoch [82/100], Avg Loss: 0.3293\n",
      "Epoch [83/100], Avg Loss: 0.3398\n",
      "Epoch [84/100], Avg Loss: 0.3413\n",
      "Epoch [85/100], Avg Loss: 0.3249\n",
      "Epoch [86/100], Avg Loss: 0.3493\n",
      "Epoch [87/100], Avg Loss: 0.3291\n",
      "Epoch [88/100], Avg Loss: 0.3264\n",
      "Epoch [89/100], Avg Loss: 0.3252\n",
      "Validation Loss after Epoch 90: 0.4920\n",
      "Epoch [90/100], Avg Loss: 0.3241\n",
      "Epoch [91/100], Avg Loss: 0.3225\n",
      "Epoch [92/100], Avg Loss: 0.3209\n",
      "Epoch [93/100], Avg Loss: 0.3240\n",
      "Epoch [94/100], Avg Loss: 0.3482\n",
      "Epoch [95/100], Avg Loss: 0.3392\n",
      "Epoch [96/100], Avg Loss: 0.3237\n",
      "Epoch [97/100], Avg Loss: 0.3274\n",
      "Epoch [98/100], Avg Loss: 0.3240\n",
      "Epoch [99/100], Avg Loss: 0.3212\n",
      "Validation Loss after Epoch 100: 0.5004\n",
      "Epoch [100/100], Avg Loss: 0.3227\n"
     ]
    }
   ],
   "source": [
    "num_epochs = 100\n",
    "model.to(device) \n",
    "\n",
    "for epoch in range(num_epochs):\n",
    "    model.train()  \n",
    "    epoch_loss = 0  \n",
    "    \n",
    "    for X_batch, y_batch in train_loader:\n",
    "        X_batch, y_batch = X_batch.to(device), y_batch.to(device).float()\n",
    "\n",
    "        optimizer.zero_grad()\n",
    "        outputs = model(X_batch)\n",
    "        \n",
    "        loss = criterion(outputs, y_batch.unsqueeze(1)) \n",
    "        loss.backward()\n",
    "        optimizer.step()\n",
    "\n",
    "        epoch_loss += loss.item()\n",
    "\n",
    "    avg_loss = epoch_loss / len(train_loader)\n",
    "    \n",
    "    # Validation Step\n",
    "    if (epoch + 1) % 10 == 0:\n",
    "        model.eval()\n",
    "        val_loss = 0\n",
    "        with torch.no_grad():\n",
    "            for X_val_batch, y_val_batch in val_loader:\n",
    "                X_val_batch, y_val_batch = X_val_batch.to(device), y_val_batch.to(device).float()\n",
    "\n",
    "                val_outputs = model(X_val_batch)\n",
    "\n",
    "                val_loss += criterion(val_outputs.float(), y_val_batch.unsqueeze(1)).item()\n",
    "\n",
    "        avg_val_loss = val_loss / len(val_loader)\n",
    "\n",
    "        print(f\"Validation Loss after Epoch {epoch+1}: {avg_val_loss:.4f}\")\n",
    "\n",
    "    print(f\"Epoch [{epoch+1}/{num_epochs}], Avg Loss: {avg_loss:.4f}\")"
   ]
  },
  {
   "cell_type": "code",
   "execution_count": 77,
   "metadata": {},
   "outputs": [
    {
     "data": {
      "text/plain": [
       "(3798, 12)"
      ]
     },
     "execution_count": 77,
     "metadata": {},
     "output_type": "execute_result"
    }
   ],
   "source": [
    "train_data.shape"
   ]
  },
  {
   "cell_type": "code",
   "execution_count": null,
   "metadata": {},
   "outputs": [],
   "source": []
  }
 ],
 "metadata": {
  "accelerator": "GPU",
  "colab": {
   "gpuType": "T4",
   "provenance": []
  },
  "kernelspec": {
   "display_name": "Python 3 (ipykernel)",
   "language": "python",
   "name": "python3"
  },
  "language_info": {
   "codemirror_mode": {
    "name": "ipython",
    "version": 3
   },
   "file_extension": ".py",
   "mimetype": "text/x-python",
   "name": "python",
   "nbconvert_exporter": "python",
   "pygments_lexer": "ipython3",
   "version": "3.10.10"
  }
 },
 "nbformat": 4,
 "nbformat_minor": 1
}
